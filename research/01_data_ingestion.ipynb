{
 "cells": [
  {
   "cell_type": "code",
   "execution_count": 3,
   "id": "3ced3d1c",
   "metadata": {},
   "outputs": [],
   "source": [
    "import os"
   ]
  },
  {
   "cell_type": "code",
   "execution_count": 4,
   "id": "6f4326e4",
   "metadata": {},
   "outputs": [
    {
     "data": {
      "text/plain": [
       "'c:\\\\MLOps_project\\\\MLOps_end_to_end_proj\\\\research'"
      ]
     },
     "execution_count": 4,
     "metadata": {},
     "output_type": "execute_result"
    }
   ],
   "source": [
    "%pwd  \n"
   ]
  },
  {
   "cell_type": "code",
   "execution_count": 5,
   "id": "294d2832",
   "metadata": {},
   "outputs": [],
   "source": [
    "os.chdir(\"..\") # go one step up"
   ]
  },
  {
   "cell_type": "code",
   "execution_count": 6,
   "id": "3b551715",
   "metadata": {},
   "outputs": [
    {
     "data": {
      "text/plain": [
       "'c:\\\\MLOps_project\\\\MLOps_end_to_end_proj'"
      ]
     },
     "execution_count": 6,
     "metadata": {},
     "output_type": "execute_result"
    }
   ],
   "source": [
    "%pwd  "
   ]
  },
  {
   "cell_type": "code",
   "execution_count": 7,
   "id": "84321be4",
   "metadata": {},
   "outputs": [
    {
     "data": {
      "text/plain": [
       "\"'from pathlib import Path\\n\\nclass DataIngestionConfig:\\n    def __init__(self, root_dir: Path, source_URL: str, local_data_file: Path, unzip_dir: Path):\\n        self.root_dir = root_dir\\n        self.source_URL = source_URL\\n        self.local_data_file = local_data_file\\n        self.unzip_dir = unzip_dir \\n        \""
      ]
     },
     "execution_count": 7,
     "metadata": {},
     "output_type": "execute_result"
    }
   ],
   "source": [
    "\n",
    "from dataclasses import dataclass\n",
    "from pathlib import Path\n",
    "\n",
    "\n",
    "@dataclass(frozen=True)\n",
    "class DataIngestionConfig:\n",
    "    root_dir: Path\n",
    "    source_URL: str\n",
    "    local_data_file: Path\n",
    "    unzip_dir: Path\n",
    "\n",
    "# without dataclass decorator it looks like ths\n",
    "''''from pathlib import Path\n",
    "\n",
    "class DataIngestionConfig:\n",
    "    def __init__(self, root_dir: Path, source_URL: str, local_data_file: Path, unzip_dir: Path):\n",
    "        self.root_dir = root_dir\n",
    "        self.source_URL = source_URL\n",
    "        self.local_data_file = local_data_file\n",
    "        self.unzip_dir = unzip_dir \n",
    "        '''"
   ]
  },
  {
   "cell_type": "code",
   "execution_count": 8,
   "id": "d838e841",
   "metadata": {},
   "outputs": [],
   "source": [
    "# reads config,params,schema files defined as path in constants.py\n",
    "\n",
    "from mlProject.constants import *\n",
    "from mlProject.utils.common import read_yaml, create_directories"
   ]
  },
  {
   "cell_type": "code",
   "execution_count": 9,
   "id": "8f6a9758",
   "metadata": {},
   "outputs": [],
   "source": [
    "class ConfigurationManager:\n",
    "    def __init__ (self,config_filepath = CONFIG_FILE_PATH ,params_filepath = PARAMS_FILE_PATH ,schema_filepath = SCHEMA_FILE_PATH):\n",
    "\n",
    "        self.config = read_yaml(config_filepath)\n",
    "        self.params = read_yaml(params_filepath)\n",
    "        self.schema = read_yaml(schema_filepath)\n",
    "\n",
    "        create_directories([self.config.artifacts_root])\n",
    "\n",
    "\n",
    "    \n",
    "    def get_data_ingestion_config(self) -> DataIngestionConfig:\n",
    "        config = self.config.data_ingestion\n",
    "        create_directories([config.root_dir])\n",
    "        data_ingestion_config = DataIngestionConfig(\n",
    "            root_dir=config.root_dir,\n",
    "            source_URL=config.source_URL,\n",
    "            local_data_file=config.local_data_file,\n",
    "            unzip_dir=config.unzip_dir \n",
    "        )\n",
    "\n",
    "        return data_ingestion_config"
   ]
  },
  {
   "cell_type": "code",
   "execution_count": 10,
   "id": "be642dcd",
   "metadata": {},
   "outputs": [],
   "source": [
    "import os\n",
    "import urllib.request as request\n",
    "import zipfile\n",
    "from mlProject import logger\n",
    "from mlProject.utils.common import get_size"
   ]
  },
  {
   "cell_type": "code",
   "execution_count": 11,
   "id": "6b383381",
   "metadata": {},
   "outputs": [],
   "source": [
    "class DataIngestion:\n",
    "    def __init__(self, config: DataIngestionConfig):\n",
    "        self.config = config\n",
    "\n",
    "\n",
    "    def download_file(self):\n",
    "        if not os.path.exists(self.config.local_data_file):\n",
    "            filename, headers = request.urlretrieve(\n",
    "                url = self.config.source_URL,\n",
    "                filename = self.config.local_data_file\n",
    "            )\n",
    "            logger.info(f\"{filename} download! with following info: \\n{headers}\")\n",
    "        else:\n",
    "            logger.info(f\"File already exists of size: {get_size(Path(self.config.local_data_file))}\")\n",
    "\n",
    "\n",
    "\n",
    "    def extract_zip_file(self):\n",
    "        \"\"\"\n",
    "        zip_file_path: str\n",
    "        Extracts the zip file into the data directory\n",
    "        Function returns None\n",
    "        \"\"\"\n",
    "        \n",
    "        unzip_path = self.config.unzip_dir\n",
    "        os.makedirs(unzip_path, exist_ok=True)\n",
    "        with zipfile.ZipFile(self.config.local_data_file, 'r') as zip_ref:\n",
    "            zip_ref.extractall(unzip_path)\n",
    "  "
   ]
  },
  {
   "cell_type": "code",
   "execution_count": 12,
   "id": "d5b3afed",
   "metadata": {},
   "outputs": [
    {
     "name": "stdout",
     "output_type": "stream",
     "text": [
      "[2025-06-15 18:48:29,799: INFO: common: yaml file: config\\config.yaml loaded successfully]\n",
      "[2025-06-15 18:48:29,804: INFO: common: yaml file: params.yaml loaded successfully]\n",
      "[2025-06-15 18:48:29,807: INFO: common: yaml file: schema.yaml loaded successfully]\n",
      "[2025-06-15 18:48:29,810: INFO: common: created directory at: artifacts]\n",
      "[2025-06-15 18:48:29,812: INFO: common: created directory at: artifacts/data_ingestion]\n",
      "[2025-06-15 18:48:30,650: INFO: 2034075365: artifacts/data_ingestion/data.zip download! with following info: \n",
      "Connection: close\n",
      "Content-Length: 23329\n",
      "Cache-Control: max-age=300\n",
      "Content-Security-Policy: default-src 'none'; style-src 'unsafe-inline'; sandbox\n",
      "Content-Type: application/zip\n",
      "ETag: \"c69888a4ae59bc5a893392785a938ccd4937981c06ba8a9d6a21aa52b4ab5b6e\"\n",
      "Strict-Transport-Security: max-age=31536000\n",
      "X-Content-Type-Options: nosniff\n",
      "X-Frame-Options: deny\n",
      "X-XSS-Protection: 1; mode=block\n",
      "X-GitHub-Request-Id: ADD2:3DB101:36C9A6:906FBA:684EC22C\n",
      "Accept-Ranges: bytes\n",
      "Date: Sun, 15 Jun 2025 13:18:30 GMT\n",
      "Via: 1.1 varnish\n",
      "X-Served-By: cache-maa10245-MAA\n",
      "X-Cache: HIT\n",
      "X-Cache-Hits: 0\n",
      "X-Timer: S1749993510.841761,VS0,VE292\n",
      "Vary: Authorization,Accept-Encoding\n",
      "Access-Control-Allow-Origin: *\n",
      "Cross-Origin-Resource-Policy: cross-origin\n",
      "X-Fastly-Request-ID: abe35de4bf5fe8c82736918b781ba3454548c30e\n",
      "Expires: Sun, 15 Jun 2025 13:23:30 GMT\n",
      "Source-Age: 0\n",
      "\n",
      "]\n"
     ]
    }
   ],
   "source": [
    "try:\n",
    "    config = ConfigurationManager()\n",
    "    data_ingestion_config = config.get_data_ingestion_config()\n",
    "    data_ingestion = DataIngestion(config=data_ingestion_config)\n",
    "    data_ingestion.download_file()\n",
    "    data_ingestion.extract_zip_file()\n",
    "except Exception as e:\n",
    "    raise e"
   ]
  }
 ],
 "metadata": {
  "kernelspec": {
   "display_name": "mlproj",
   "language": "python",
   "name": "python3"
  },
  "language_info": {
   "codemirror_mode": {
    "name": "ipython",
    "version": 3
   },
   "file_extension": ".py",
   "mimetype": "text/x-python",
   "name": "python",
   "nbconvert_exporter": "python",
   "pygments_lexer": "ipython3",
   "version": "3.12.7"
  }
 },
 "nbformat": 4,
 "nbformat_minor": 5
}
